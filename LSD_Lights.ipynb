{
  "nbformat": 4,
  "nbformat_minor": 0,
  "metadata": {
    "colab": {
      "provenance": [],
      "authorship_tag": "ABX9TyPLJbl1IBBRmUPykeZO0l5g",
      "include_colab_link": true
    },
    "kernelspec": {
      "name": "python3",
      "display_name": "Python 3"
    },
    "language_info": {
      "name": "python"
    }
  },
  "cells": [
    {
      "cell_type": "markdown",
      "metadata": {
        "id": "view-in-github",
        "colab_type": "text"
      },
      "source": [
        "<a href=\"https://colab.research.google.com/github/gtbnhyujmj/Digital-Buffett/blob/main/LSD_Lights.ipynb\" target=\"_parent\"><img src=\"https://colab.research.google.com/assets/colab-badge.svg\" alt=\"Open In Colab\"/></a>"
      ]
    },
    {
      "cell_type": "code",
      "execution_count": 1,
      "metadata": {
        "id": "crAWiwioNT5L"
      },
      "outputs": [],
      "source": [
        "# 目標\n",
        "# 找出 低價位但具備複質押機會的代幣，依照你設定的策略 ETH > SOL > Others 做排序與評估，\n",
        "# 發出 綠燈 黃燈 紅燈 訊號。\n",
        "# 準備 供給未來其他機器使用。"
      ]
    },
    {
      "cell_type": "code",
      "source": [
        "# 功能模組設計\n",
        "# 價格與 LSD 檢查：\t用 Coingecko API + DefiLlama API 取得價格、是否有 LSD、是否可再質押。\n",
        "# 價格比較分析：\t目前幣價 vs. 30日平均、vs ETH 價格比、TVL 增減趨勢....\n",
        "# 訊號燈評分：\t每個幣依據分析結果打分並標示綠燈/黃燈/紅燈\n"
      ],
      "metadata": {
        "id": "BK2LZzjENmWB"
      },
      "execution_count": null,
      "outputs": []
    }
  ]
}